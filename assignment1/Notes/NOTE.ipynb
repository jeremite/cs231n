{
 "cells": [
  {
   "cell_type": "code",
   "execution_count": 1,
   "metadata": {},
   "outputs": [],
   "source": [
    "import numpy as np\n",
    "import matplotlib.pyplot as plt"
   ]
  },
  {
   "cell_type": "code",
   "execution_count": 2,
   "metadata": {},
   "outputs": [],
   "source": [
    "from PIL import Image  "
   ]
  },
  {
   "cell_type": "markdown",
   "metadata": {},
   "source": [
    "# A\n",
    "http://cs231n.github.io/classification/#knn\n",
    "### KNN : simple to implement and understand but takes time to test. unlike DNN;  used mostly in dataset with low dimensions\n",
    "### CROSS-VALIDATION: when size of the dataset is small. used to tune and tweek the hyperparamters like the value of K."
   ]
  },
  {
   "cell_type": "markdown",
   "metadata": {},
   "source": [
    "# B\n",
    "### W is like a classifier and template\n",
    "### Image processing always center data (subtract mean) and normalize them [-1,1]\n",
    "### SVM:  Multiclass Support Vector Machine (SVM) loss. The SVM loss is set up so that the SVM “wants” the correct class for each image to a have a score higher than the incorrect classes by some fixed margin Δ\n",
    "\n",
    "<img src=\"SVM.png\" style=\"width:500;height:450px;\">\n",
    "\n",
    "\n",
    "### L2 regularization :  Since the L2 penalty prefers smaller and more diffuse weight vectors, the final classifier is encouraged to take into account all input dimensions to small amounts rather than a few input dimensions and very strongly.\n",
    "\n",
    "<img src=\"L2 reg.png\" style=\"width:500;height:450px;\">\n",
    "\n",
    "### Setting Delta and BINARY SVM\n",
    "<img src=\"delta and binarySVM.png\" style=\"width:500;height:450px;\">"
   ]
  },
  {
   "cell_type": "markdown",
   "metadata": {},
   "source": [
    "\n",
    "# C : softmax & svm vs softmax"
   ]
  },
  {
   "cell_type": "markdown",
   "metadata": {},
   "source": [
    " <img src=\"softmax_numeric_stability.png\" style=\"width:500;height:450px;\">\n",
    " \n",
    " <img src=\"svm_vs_softmax.png\" style=\"width:500;height:450px;\">"
   ]
  },
  {
   "cell_type": "markdown",
   "metadata": {},
   "source": [
    "   # svm care more about the result of classification and not micromanage. While softmax will consistently amplify the correct probablity\n",
    "<img src=\"svm_vs_softmax2.png\" style=\"width:500;height:450px;\">"
   ]
  },
  {
   "cell_type": "code",
   "execution_count": null,
   "metadata": {},
   "outputs": [],
   "source": []
  },
  {
   "cell_type": "markdown",
   "metadata": {},
   "source": [
    "# D: softmax back-propagation"
   ]
  },
  {
   "cell_type": "markdown",
   "metadata": {},
   "source": [
    " <img src=\"softmax_bprop.jpg\" style=\"width:500;height:450px;\">"
   ]
  },
  {
   "cell_type": "code",
   "execution_count": null,
   "metadata": {},
   "outputs": [],
   "source": []
  },
  {
   "cell_type": "markdown",
   "metadata": {},
   "source": [
    "# E: SVM gradient descent & SGD\n",
    "   ### The derivative on each variable tells you the sensitivity of the whole expression on its value.\n",
    "   ### http://cs231n.github.io/optimization-2/"
   ]
  },
  {
   "cell_type": "markdown",
   "metadata": {},
   "source": [
    "<img src=\"svm_gradient.png\" style=\"width:500;height:450px;\">\n",
    "<img src=\"SGD.png\" style=\"width:500;height:450px;\">\n"
   ]
  },
  {
   "cell_type": "markdown",
   "metadata": {},
   "source": [
    "# F: gradient desent notes"
   ]
  },
  {
   "cell_type": "markdown",
   "metadata": {},
   "source": [
    "<img src=\"back_prop.png\" style=\"width:500;height:450px;\">\n",
    "\n",
    "\n",
    "<img src=\"points_in_gradient.png\" style=\"width:350;height:330px;\">\n",
    "\n",
    "   ## use dimension analysis\n",
    "<img src=\"dimension_analysis.png\" style=\"width:350;height:330px;\">"
   ]
  },
  {
   "cell_type": "code",
   "execution_count": null,
   "metadata": {},
   "outputs": [],
   "source": []
  },
  {
   "cell_type": "markdown",
   "metadata": {},
   "source": [
    "# G: NN architecture"
   ]
  },
  {
   "cell_type": "markdown",
   "metadata": {},
   "source": [
    "  ## activation choice\n",
    "<img src='activation_choice.png' style=\"width:200;height:100px;\">\n",
    "\n",
    "  ## representation power\n",
    "<img src=\"representation_power.png\" style=\"width:200;height:100px;\">\n",
    "\n",
    "  ## small network will have different local minima with bigger variance, so your random start counts;\n",
    "  ## big network has local minima as well, but with less variance\n",
    "  ## use regularization to deal with the overfitting caused by bigger network\n",
    "\n",
    "<img src=\"architecture.png\" style=\"width:400;height:300px;\">"
   ]
  },
  {
   "cell_type": "code",
   "execution_count": null,
   "metadata": {},
   "outputs": [],
   "source": []
  },
  {
   "cell_type": "markdown",
   "metadata": {},
   "source": [
    "# H: Normalisation, PCA, whitening(question about sqrt(S), I think should be square(S)"
   ]
  },
  {
   "cell_type": "markdown",
   "metadata": {},
   "source": [
    "## 1、zero-centered and divided by std / or scaled to [-1,1].   X /=  np.std(X, axis=0)\n",
    "##  pitfall: minus the mean from training data for test and validate dataset"
   ]
  },
  {
   "cell_type": "markdown",
   "metadata": {},
   "source": [
    "## 2, PCA and Whitening\n",
    "### SVD reference: http://www.cnblogs.com/LeftNotEasy/archive/2011/01/19/svd-and-applications.html"
   ]
  },
  {
   "cell_type": "code",
   "execution_count": 19,
   "metadata": {
    "collapsed": true
   },
   "outputs": [
    {
     "ename": "TypeError",
     "evalue": "Cannot cast ufunc subtract output from dtype('float64') to dtype('int32') with casting rule 'same_kind'",
     "output_type": "error",
     "traceback": [
      "\u001b[1;31m---------------------------------------------------------------------------\u001b[0m",
      "\u001b[1;31mTypeError\u001b[0m                                 Traceback (most recent call last)",
      "\u001b[1;32m<ipython-input-19-24ac9a9e261e>\u001b[0m in \u001b[0;36m<module>\u001b[1;34m()\u001b[0m\n\u001b[0;32m      6\u001b[0m \u001b[1;31m##############\u001b[0m\u001b[1;33m\u001b[0m\u001b[1;33m\u001b[0m\u001b[0m\n\u001b[0;32m      7\u001b[0m \u001b[1;31m# Assume input data matrix X of size [N x D]\u001b[0m\u001b[1;33m\u001b[0m\u001b[1;33m\u001b[0m\u001b[0m\n\u001b[1;32m----> 8\u001b[1;33m \u001b[0mX\u001b[0m \u001b[1;33m-=\u001b[0m \u001b[0mnp\u001b[0m\u001b[1;33m.\u001b[0m\u001b[0mmean\u001b[0m\u001b[1;33m(\u001b[0m\u001b[0mX\u001b[0m\u001b[1;33m,\u001b[0m \u001b[0maxis\u001b[0m \u001b[1;33m=\u001b[0m \u001b[1;36m0\u001b[0m\u001b[1;33m)\u001b[0m \u001b[1;31m# zero-center the data (important)\u001b[0m\u001b[1;33m\u001b[0m\u001b[0m\n\u001b[0m\u001b[0;32m      9\u001b[0m \u001b[0mcov\u001b[0m \u001b[1;33m=\u001b[0m \u001b[0mnp\u001b[0m\u001b[1;33m.\u001b[0m\u001b[0mdot\u001b[0m\u001b[1;33m(\u001b[0m\u001b[0mX\u001b[0m\u001b[1;33m.\u001b[0m\u001b[0mT\u001b[0m\u001b[1;33m,\u001b[0m \u001b[0mX\u001b[0m\u001b[1;33m)\u001b[0m \u001b[1;33m/\u001b[0m \u001b[0mX\u001b[0m\u001b[1;33m.\u001b[0m\u001b[0mshape\u001b[0m\u001b[1;33m[\u001b[0m\u001b[1;36m0\u001b[0m\u001b[1;33m]\u001b[0m \u001b[1;31m# get the data covariance matrix\u001b[0m\u001b[1;33m\u001b[0m\u001b[0m\n\u001b[0;32m     10\u001b[0m \u001b[1;31m# compute the svd of the covariance matrix\u001b[0m\u001b[1;33m\u001b[0m\u001b[1;33m\u001b[0m\u001b[0m\n",
      "\u001b[1;31mTypeError\u001b[0m: Cannot cast ufunc subtract output from dtype('float64') to dtype('int32') with casting rule 'same_kind'"
     ]
    }
   ],
   "source": [
    "#X = np.random.choice(range(255),40).reshape(5,8)\n",
    "\n",
    "\n",
    "##############\n",
    "##PCA       ##\n",
    "##############\n",
    "# Assume input data matrix X of size [N x D]\n",
    "X -= np.mean(X, axis = 0) # zero-center the data (important)\n",
    "cov = np.dot(X.T, X) / X.shape[0] # get the data covariance matrix\n",
    "# compute the svd of the covariance matrix\n",
    "U,S,V = np.linalg.svd(cov)   #where the columns of U are the eigenvectors and S is a 1-D array of the singular values.\n",
    "\n",
    "Xrot = np.dot(X, U) # decorrelate the data by projecting into the eigenbasis cause U is othonormal\n",
    "Xrot_reduced = np.dot(X, U[:,:100]) # Xrot_reduced becomes [N x 100]\n",
    "\n",
    "\n",
    "##############\n",
    "##Whitening ##  \n",
    "##############\n",
    "# whiten the data:\n",
    "# divide by the eigenvalues (which are square roots of the singular values)\n",
    "Xwhite = Xrot / np.sqrt(S + 1e-5)"
   ]
  },
  {
   "cell_type": "code",
   "execution_count": 3,
   "metadata": {},
   "outputs": [
    {
     "data": {
      "text/plain": [
       "(array([[-4.08248290e-01,  8.94427191e-01, -1.82574186e-01],\n",
       "        [-8.16496581e-01, -4.47213595e-01, -3.65148372e-01],\n",
       "        [-4.08248290e-01, -1.94289029e-16,  9.12870929e-01]]),\n",
       " array([3.46410162, 3.16227766]),\n",
       " array([[-0.70710678, -0.70710678],\n",
       "        [ 0.70710678, -0.70710678]]))"
      ]
     },
     "execution_count": 3,
     "metadata": {},
     "output_type": "execute_result"
    }
   ],
   "source": [
    "pu = np.array([[3,-1],[1,3],[1,1]])\n",
    "U,S,V = np.linalg.svd(pu)\n",
    "U,S,V"
   ]
  },
  {
   "cell_type": "code",
   "execution_count": 9,
   "metadata": {},
   "outputs": [
    {
     "data": {
      "text/plain": [
       "array([ 0., 10., 12.])"
      ]
     },
     "execution_count": 9,
     "metadata": {},
     "output_type": "execute_result"
    }
   ],
   "source": [
    "np.linalg.eigvals(np.dot(pu,pu.T))"
   ]
  },
  {
   "cell_type": "code",
   "execution_count": 12,
   "metadata": {},
   "outputs": [
    {
     "data": {
      "text/plain": [
       "array([12., 10.])"
      ]
     },
     "execution_count": 12,
     "metadata": {},
     "output_type": "execute_result"
    }
   ],
   "source": [
    "np.square(S)"
   ]
  },
  {
   "cell_type": "code",
   "execution_count": null,
   "metadata": {},
   "outputs": [],
   "source": []
  },
  {
   "cell_type": "markdown",
   "metadata": {},
   "source": [
    "# I: Weights and bias initialisation: http://cs231n.github.io/neural-networks-2/\n",
    "## In practice, use w = np.random.randn(n) * sqrt(2.0/n) (HE. et al.)"
   ]
  },
  {
   "cell_type": "markdown",
   "metadata": {},
   "source": [
    "## weight init problem\n",
    "<img src=\"weight_init_reason.png\" style=\"width:400;height:300px;\">\n",
    "\n",
    "\n",
    "## how to decrease the variance of the output of each layer\n",
    "<img src=\"weight_init.png\" style=\"width:400;height:300px;\">\n",
    "\n",
    "\n",
    "## Batch Normalization\n",
    "<img src=\"BatchNorm.png\" style=\"width:400;height:300px;\">"
   ]
  },
  {
   "cell_type": "markdown",
   "metadata": {},
   "source": [
    "# J: LOSS FUNCTION\n",
    "## SVM and SOFTMAX for classificaiton. L2 Norm and L1 norm for regression; \n",
    "## When faced with a regression task, first consider if it is absolutely necessary. \n",
    "## Instead, have a strong preference to discretizing your outputs to bins and perform classification over them whenever possible."
   ]
  },
  {
   "cell_type": "code",
   "execution_count": null,
   "metadata": {},
   "outputs": [],
   "source": []
  },
  {
   "cell_type": "markdown",
   "metadata": {},
   "source": [
    "## （1）numpy.flatnonzero(): return the index of non-zero elements"
   ]
  },
  {
   "cell_type": "code",
   "execution_count": 2,
   "metadata": {},
   "outputs": [
    {
     "name": "stdout",
     "output_type": "stream",
     "text": [
      "[-3 -2 -1  0  1  2] [0 1 2 4 5]\n"
     ]
    }
   ],
   "source": [
    "x = np.arange(-3,3)\n",
    "y = np.flatnonzero(x)\n",
    "print(x,y)"
   ]
  },
  {
   "cell_type": "code",
   "execution_count": 4,
   "metadata": {},
   "outputs": [
    {
     "name": "stdout",
     "output_type": "stream",
     "text": [
      "[2 5 7]\n"
     ]
    }
   ],
   "source": [
    "d = np.array([1,2,3,4,4,3,5,3,6])\n",
    "haa = np.flatnonzero(d == 3)\n",
    "print (haa)"
   ]
  },
  {
   "cell_type": "markdown",
   "metadata": {},
   "source": [
    "# (2) matplotlib.pyplot"
   ]
  },
  {
   "cell_type": "code",
   "execution_count": 6,
   "metadata": {},
   "outputs": [
    {
     "data": {
      "text/plain": [
       "[<matplotlib.lines.Line2D at 0x1aeab210358>]"
      ]
     },
     "execution_count": 6,
     "metadata": {},
     "output_type": "execute_result"
    },
    {
     "data": {
      "image/png": "[encoded data removed]",
      "text/plain": [
       "<Figure size 432x288 with 2 Axes>"
      ]
     },
     "metadata": {
      "needs_background": "light"
     },
     "output_type": "display_data"
    }
   ],
   "source": [
    "plt.subplot(2,2,1)\n",
    "plt.plot(np.arange(-3,3))\n",
    "plt.subplot(223)\n",
    "plt.plot(np.arange(5,8))"
   ]
  },
  {
   "cell_type": "markdown",
   "metadata": {},
   "source": [
    "# （3）np.argsort() ：argsort函数返回的是数组值从小到大的索引值"
   ]
  },
  {
   "cell_type": "markdown",
   "metadata": {},
   "source": [
    "    --------\n",
    "    One dimensional array:一维数组\n",
    "    \n",
    "    >>> x = np.array([3, 1, 2])\n",
    "    >>> np.argsort(x)\n",
    "    array([1, 2, 0])\n",
    "    \n",
    "    Two-dimensional array:二维数组\n",
    "    \n",
    "    >>> x = np.array([[0, 3], [2, 2]])\n",
    "    >>> x\n",
    "    array([[0, 3],\n",
    "           [2, 2]])\n",
    "    \n",
    "    >>> np.argsort(x, axis=0) #按列排序\n",
    "    array([[0, 1],\n",
    "           [1, 0]])\n",
    "    \n",
    "    >>> np.argsort(x, axis=1) #按行排序\n",
    "    array([[0, 1],\n",
    "           [0, 1]])"
   ]
  },
  {
   "cell_type": "markdown",
   "metadata": {},
   "source": [
    "# (4) get the number with the most frequency\n",
    "## np.bincount(); np.argmax() : return the index of the biggest number\n",
    "   它大致说bin的数量比x中的最大值大1，每个bin给出了它的索引值在x中出现的次数。下面，我举个例子让大家更好的理解一下："
   ]
  },
  {
   "cell_type": "code",
   "execution_count": 16,
   "metadata": {},
   "outputs": [
    {
     "data": {
      "text/plain": [
       "array([0, 1, 3, 1], dtype=int64)"
      ]
     },
     "execution_count": 16,
     "metadata": {},
     "output_type": "execute_result"
    }
   ],
   "source": [
    "binc = np.array([2,1,3,2,2])\n",
    "np.bincount(binc)"
   ]
  },
  {
   "cell_type": "markdown",
   "metadata": {},
   "source": [
    "索引值0有0个，索引值1在binc中有1个，索引值2有3个。。。"
   ]
  },
  {
   "cell_type": "code",
   "execution_count": 17,
   "metadata": {},
   "outputs": [
    {
     "data": {
      "text/plain": [
       "2"
      ]
     },
     "execution_count": 17,
     "metadata": {},
     "output_type": "execute_result"
    }
   ],
   "source": [
    "np.argmax(np.bincount(binc))"
   ]
  },
  {
   "cell_type": "markdown",
   "metadata": {},
   "source": [
    "# (5) array_split : can split not evenly ([1,2],[2,3],[1]); hsplit, vsplit"
   ]
  },
  {
   "cell_type": "code",
   "execution_count": 24,
   "metadata": {},
   "outputs": [],
   "source": [
    "sp = np.arange(24).reshape(4,6)"
   ]
  },
  {
   "cell_type": "code",
   "execution_count": 25,
   "metadata": {},
   "outputs": [
    {
     "data": {
      "text/plain": [
       "array([[ 0,  1,  2,  3,  4,  5],\n",
       "       [ 6,  7,  8,  9, 10, 11],\n",
       "       [12, 13, 14, 15, 16, 17],\n",
       "       [18, 19, 20, 21, 22, 23]])"
      ]
     },
     "execution_count": 25,
     "metadata": {},
     "output_type": "execute_result"
    }
   ],
   "source": [
    "sp"
   ]
  },
  {
   "cell_type": "code",
   "execution_count": 26,
   "metadata": {},
   "outputs": [
    {
     "data": {
      "text/plain": [
       "[array([[ 0,  1],\n",
       "        [ 6,  7],\n",
       "        [12, 13],\n",
       "        [18, 19]]), array([[ 2,  3],\n",
       "        [ 8,  9],\n",
       "        [14, 15],\n",
       "        [20, 21]]), array([[ 4,  5],\n",
       "        [10, 11],\n",
       "        [16, 17],\n",
       "        [22, 23]])]"
      ]
     },
     "execution_count": 26,
     "metadata": {},
     "output_type": "execute_result"
    }
   ],
   "source": [
    "np.hsplit(sp,3)"
   ]
  },
  {
   "cell_type": "code",
   "execution_count": 27,
   "metadata": {},
   "outputs": [
    {
     "data": {
      "text/plain": [
       "[array([[ 0,  1,  2,  3,  4,  5],\n",
       "        [ 6,  7,  8,  9, 10, 11]]), array([[12, 13, 14, 15, 16, 17],\n",
       "        [18, 19, 20, 21, 22, 23]])]"
      ]
     },
     "execution_count": 27,
     "metadata": {},
     "output_type": "execute_result"
    }
   ],
   "source": [
    "np.vsplit(sp,2)"
   ]
  },
  {
   "cell_type": "code",
   "execution_count": 33,
   "metadata": {},
   "outputs": [
    {
     "data": {
      "text/plain": [
       "[array([0, 1, 2]), array([3, 4, 5]), array([6, 7])]"
      ]
     },
     "execution_count": 33,
     "metadata": {},
     "output_type": "execute_result"
    }
   ],
   "source": [
    "#对于应该分成n个部分的长度为l的数组，它将返回l％n个大小为l // n + 1的子数组，其余大小为l // n。\n",
    "asp = np.arange(8)\n",
    "np.array_split(asp,3)"
   ]
  },
  {
   "cell_type": "markdown",
   "metadata": {},
   "source": [
    "# (6) np.linalg.norm(a-b) : default to calculate euclidean distance"
   ]
  },
  {
   "cell_type": "code",
   "execution_count": 34,
   "metadata": {},
   "outputs": [
    {
     "data": {
      "text/plain": [
       "16.0"
      ]
     },
     "execution_count": 34,
     "metadata": {},
     "output_type": "execute_result"
    }
   ],
   "source": [
    "x1 = np.arange(4).reshape(2,2)\n",
    "x2 = np.arange(8,12).reshape(2,2)\n",
    "np.linalg.norm(x1-x2)"
   ]
  },
  {
   "cell_type": "code",
   "execution_count": 2,
   "metadata": {},
   "outputs": [
    {
     "data": {
      "text/plain": [
       "5"
      ]
     },
     "execution_count": 2,
     "metadata": {},
     "output_type": "execute_result"
    }
   ],
   "source": [
    "aaa = [1,2,3,4,5]\n",
    "aaa[-1]"
   ]
  },
  {
   "cell_type": "markdown",
   "metadata": {},
   "source": [
    "# (7) use the transform of the index"
   ]
  },
  {
   "cell_type": "code",
   "execution_count": 4,
   "metadata": {},
   "outputs": [
    {
     "name": "stdout",
     "output_type": "stream",
     "text": [
      "[1, 2, 3, 4]\n",
      "[0, 2, 3, 4]\n",
      "[0, 1, 3, 4]\n",
      "[0, 1, 2, 4]\n",
      "[0, 1, 2, 3]\n"
     ]
    }
   ],
   "source": [
    "for i in range(5):\n",
    "    indices = [x for x in np.arange(5) if x!=i]\n",
    "    print(indices)"
   ]
  },
  {
   "cell_type": "markdown",
   "metadata": {},
   "source": [
    "# (8) np.concatenate(x,axis=0) : default axis=0; x could be array or list"
   ]
  },
  {
   "cell_type": "code",
   "execution_count": 11,
   "metadata": {},
   "outputs": [
    {
     "data": {
      "text/plain": [
       "array([1, 2, 3, 4, 5, 6])"
      ]
     },
     "execution_count": 11,
     "metadata": {},
     "output_type": "execute_result"
    }
   ],
   "source": [
    "li = [[1,2],[3,4],[5,6]]\n",
    "np.concatenate((li))"
   ]
  },
  {
   "cell_type": "code",
   "execution_count": 12,
   "metadata": {},
   "outputs": [
    {
     "data": {
      "text/plain": [
       "list"
      ]
     },
     "execution_count": 12,
     "metadata": {},
     "output_type": "execute_result"
    }
   ],
   "source": [
    "type(li)"
   ]
  },
  {
   "cell_type": "markdown",
   "metadata": {},
   "source": [
    "# (9) print format"
   ]
  },
  {
   "cell_type": "code",
   "execution_count": 13,
   "metadata": {},
   "outputs": [
    {
     "name": "stdout",
     "output_type": "stream",
     "text": [
      "Got 100 / 200 correct => accuracy: 0.500000\n"
     ]
    }
   ],
   "source": [
    "num_correct=100\n",
    "num_test=200 \n",
    "accuracy=num_correct/num_test\n",
    "print('Got %d / %d correct => accuracy: %f' % (num_correct, num_test, accuracy))"
   ]
  },
  {
   "cell_type": "code",
   "execution_count": 8,
   "metadata": {},
   "outputs": [
    {
     "data": {
      "text/plain": [
       "array([[4, 9],\n",
       "       [4, 9]], dtype=int32)"
      ]
     },
     "execution_count": 8,
     "metadata": {},
     "output_type": "execute_result"
    }
   ],
   "source": [
    "abc = np.array([[2,3],[2,3]])\n",
    "abc**2"
   ]
  },
  {
   "cell_type": "markdown",
   "metadata": {},
   "source": [
    "# (10) SVM: select the correct position "
   ]
  },
  {
   "cell_type": "code",
   "execution_count": 18,
   "metadata": {},
   "outputs": [],
   "source": [
    "yy = np.arange(20).reshape(4,5)"
   ]
  },
  {
   "cell_type": "code",
   "execution_count": 20,
   "metadata": {},
   "outputs": [
    {
     "data": {
      "text/plain": [
       "(array([[ 0,  1,  2,  3,  4],\n",
       "        [ 5,  6,  7,  8,  9],\n",
       "        [10, 11, 12, 13, 14],\n",
       "        [15, 16, 17, 18, 19]]), array([ 2,  8, 11, 19]), (4,))"
      ]
     },
     "execution_count": 20,
     "metadata": {},
     "output_type": "execute_result"
    }
   ],
   "source": [
    "z = np.array([2,3,1,4])\n",
    "ya = yy[np.arange(4),z]\n",
    "yy,ya,ya.shape"
   ]
  },
  {
   "cell_type": "markdown",
   "metadata": {},
   "source": [
    "# (11) calculat the accuracy : np.mean / np.sum"
   ]
  },
  {
   "cell_type": "code",
   "execution_count": 25,
   "metadata": {},
   "outputs": [
    {
     "name": "stdout",
     "output_type": "stream",
     "text": [
      "[ True False  True  True  True False]\n",
      "0.6666666666666666\n"
     ]
    }
   ],
   "source": [
    "xxx = np.array([1,2,3,5,1,2])\n",
    "yyy = np.array([1,4,3,5,1,4])\n",
    "print(xxx==yyy)\n",
    "print(np.mean(xxx==yyy))"
   ]
  },
  {
   "cell_type": "code",
   "execution_count": 26,
   "metadata": {},
   "outputs": [
    {
     "data": {
      "text/plain": [
       "0.6666666666666666"
      ]
     },
     "execution_count": 26,
     "metadata": {},
     "output_type": "execute_result"
    }
   ],
   "source": [
    "np.sum(xxx==yyy)/xxx.shape[0]"
   ]
  },
  {
   "cell_type": "markdown",
   "metadata": {},
   "source": [
    "# (12) dictionary add "
   ]
  },
  {
   "cell_type": "code",
   "execution_count": 27,
   "metadata": {},
   "outputs": [
    {
     "data": {
      "text/plain": [
       "{(1, 2): (3, 4)}"
      ]
     },
     "execution_count": 27,
     "metadata": {},
     "output_type": "execute_result"
    }
   ],
   "source": [
    "p = {}\n",
    "hhh = (1,2)\n",
    "uuu = (3,4)\n",
    "p[hhh]=uuu\n",
    "p"
   ]
  },
  {
   "cell_type": "code",
   "execution_count": 3,
   "metadata": {},
   "outputs": [],
   "source": [
    "bn_params = [{'mode': 'train'} for i in range(5)]"
   ]
  },
  {
   "cell_type": "code",
   "execution_count": 4,
   "metadata": {},
   "outputs": [
    {
     "data": {
      "text/plain": [
       "[{'mode': 'train'},\n",
       " {'mode': 'train'},\n",
       " {'mode': 'train'},\n",
       " {'mode': 'train'},\n",
       " {'mode': 'train'}]"
      ]
     },
     "execution_count": 4,
     "metadata": {},
     "output_type": "execute_result"
    }
   ],
   "source": [
    "bn_params"
   ]
  },
  {
   "cell_type": "markdown",
   "metadata": {},
   "source": [
    "# (13) transform data into integer that can be interpreted by imshow()"
   ]
  },
  {
   "cell_type": "code",
   "execution_count": 31,
   "metadata": {},
   "outputs": [
    {
     "data": {
      "text/plain": [
       "array([1], dtype=uint8)"
      ]
     },
     "execution_count": 31,
     "metadata": {},
     "output_type": "execute_result"
    }
   ],
   "source": [
    "o=np.array([1.83])\n",
    "o.astype('uint8')"
   ]
  },
  {
   "cell_type": "code",
   "execution_count": 39,
   "metadata": {},
   "outputs": [
    {
     "data": {
      "text/plain": [
       "((1, 1, 40, 6), (40, 6))"
      ]
     },
     "execution_count": 39,
     "metadata": {},
     "output_type": "execute_result"
    }
   ],
   "source": [
    "m = np.random.randn(3,5,4,4)\n",
    "m2 = m.reshape(1,1,40,6)\n",
    "m1=m2.squeeze()\n",
    "m2.shape,m1.shape"
   ]
  },
  {
   "cell_type": "code",
   "execution_count": null,
   "metadata": {},
   "outputs": [],
   "source": []
  },
  {
   "cell_type": "markdown",
   "metadata": {},
   "source": [
    "# (14) np.nditer()"
   ]
  },
  {
   "cell_type": "code",
   "execution_count": 16,
   "metadata": {},
   "outputs": [
    {
     "data": {
      "text/plain": [
       "(array([[10, 15],\n",
       "        [20, 25],\n",
       "        [30, 35],\n",
       "        [40, 45],\n",
       "        [50, 55]]), array([[89, 90],\n",
       "        [91, 92],\n",
       "        [93, 94],\n",
       "        [95, 96],\n",
       "        [97, 98]]))"
      ]
     },
     "execution_count": 16,
     "metadata": {},
     "output_type": "execute_result"
    }
   ],
   "source": [
    "fff = np.arange(10,60,5).reshape(5,2)\n",
    "ggg = np.arange(89,99).reshape(5,2)\n",
    "fff, ggg"
   ]
  },
  {
   "cell_type": "code",
   "execution_count": 22,
   "metadata": {},
   "outputs": [],
   "source": [
    "it = np.nditer(fff,flags=['multi_index'],op_flags=['readwrite'])"
   ]
  },
  {
   "cell_type": "code",
   "execution_count": 23,
   "metadata": {},
   "outputs": [
    {
     "name": "stdout",
     "output_type": "stream",
     "text": [
      "(0, 0)\n",
      "89\n",
      "(0, 1)\n",
      "90\n",
      "(1, 0)\n",
      "91\n",
      "(1, 1)\n",
      "92\n",
      "(2, 0)\n",
      "93\n",
      "(2, 1)\n",
      "94\n",
      "(3, 0)\n",
      "95\n",
      "(3, 1)\n",
      "96\n",
      "(4, 0)\n",
      "97\n",
      "(4, 1)\n",
      "98\n"
     ]
    }
   ],
   "source": [
    "while not it.finished:\n",
    "    print(it.multi_index)\n",
    "    print(ggg[it.multi_index])\n",
    "    it.iternext()"
   ]
  },
  {
   "cell_type": "code",
   "execution_count": 27,
   "metadata": {},
   "outputs": [
    {
     "name": "stdout",
     "output_type": "stream",
     "text": [
      "89\n",
      "90\n",
      "91\n",
      "92\n",
      "93\n",
      "94\n",
      "95\n",
      "96\n",
      "97\n",
      "98\n"
     ]
    }
   ],
   "source": [
    "for i,j in ggg:\n",
    "    print(i)\n",
    "    print(j)"
   ]
  },
  {
   "cell_type": "code",
   "execution_count": null,
   "metadata": {},
   "outputs": [],
   "source": []
  },
  {
   "cell_type": "code",
   "execution_count": 32,
   "metadata": {},
   "outputs": [
    {
     "name": "stdout",
     "output_type": "stream",
     "text": [
      "[1, 4, 5, 3]\n"
     ]
    }
   ],
   "source": [
    "z=[1,3,4,5]\n",
    "np.random.shuffle(z)\n",
    "print(z)"
   ]
  },
  {
   "cell_type": "code",
   "execution_count": null,
   "metadata": {},
   "outputs": [],
   "source": []
  },
  {
   "cell_type": "code",
   "execution_count": null,
   "metadata": {},
   "outputs": [],
   "source": []
  },
  {
   "cell_type": "code",
   "execution_count": 3,
   "metadata": {},
   "outputs": [
    {
     "data": {
      "text/plain": [
       "array([[0.32581852, 0.33236459, 0.87777302, 0.17006512, 0.36498501,\n",
       "        0.38142056, 0.25574457, 0.01856814],\n",
       "       [0.95676079, 0.78096187, 0.1045631 , 0.11143345, 0.06427278,\n",
       "        0.76144642, 0.2269553 , 0.79879589],\n",
       "       [0.504224  , 0.52608258, 0.23481732, 0.25278541, 0.39915874,\n",
       "        0.45083524, 0.02376543, 0.53968173],\n",
       "       [0.99565754, 0.07425629, 0.76384628, 0.55790013, 0.6258166 ,\n",
       "        0.90497396, 0.98692905, 0.42854909],\n",
       "       [0.8938137 , 0.48721419, 0.80608292, 0.83257785, 0.56254773,\n",
       "        0.76168252, 0.58780896, 0.98789628],\n",
       "       [0.5286585 , 0.09005686, 0.36842714, 0.18317892, 0.40292285,\n",
       "        0.77226266, 0.72782972, 0.03487539],\n",
       "       [0.81224783, 0.49600539, 0.65107118, 0.74581115, 0.90233743,\n",
       "        0.18794462, 0.26182351, 0.15367157],\n",
       "       [0.02424014, 0.59239878, 0.44288338, 0.14803217, 0.62036244,\n",
       "        0.99337334, 0.09530035, 0.91759669],\n",
       "       [0.94937236, 0.99606763, 0.28416782, 0.07843494, 0.83899019,\n",
       "        0.22379669, 0.87188049, 0.16253133]])"
      ]
     },
     "execution_count": 3,
     "metadata": {},
     "output_type": "execute_result"
    }
   ],
   "source": [
    "a = np.random.rand(9,8)\n",
    "a"
   ]
  },
  {
   "cell_type": "code",
   "execution_count": null,
   "metadata": {},
   "outputs": [],
   "source": []
  },
  {
   "cell_type": "code",
   "execution_count": 7,
   "metadata": {},
   "outputs": [
    {
     "data": {
      "text/plain": [
       "array([6, 4, 5, 4, 6, 1, 5, 7, 0])"
      ]
     },
     "execution_count": 7,
     "metadata": {},
     "output_type": "execute_result"
    }
   ],
   "source": [
    "y = np.random.randint(0,8,(9,))\n",
    "y"
   ]
  },
  {
   "cell_type": "code",
   "execution_count": 9,
   "metadata": {},
   "outputs": [
    {
     "data": {
      "text/plain": [
       "(9, 9)"
      ]
     },
     "execution_count": 9,
     "metadata": {},
     "output_type": "execute_result"
    }
   ],
   "source": [
    "a[:,y].shape"
   ]
  },
  {
   "cell_type": "code",
   "execution_count": 11,
   "metadata": {},
   "outputs": [
    {
     "data": {
      "text/plain": [
       "array([0.25574457, 0.06427278, 0.45083524, 0.6258166 , 0.58780896,\n",
       "       0.09005686, 0.18794462, 0.91759669, 0.94937236])"
      ]
     },
     "execution_count": 11,
     "metadata": {},
     "output_type": "execute_result"
    }
   ],
   "source": [
    "a[range(9),y]"
   ]
  },
  {
   "cell_type": "code",
   "execution_count": 20,
   "metadata": {},
   "outputs": [
    {
     "data": {
      "text/plain": [
       "array([[0, 1],\n",
       "       [2, 3],\n",
       "       [4, 5],\n",
       "       [6, 7],\n",
       "       [8, 6],\n",
       "       [4, 5],\n",
       "       [4, 6],\n",
       "       [1, 5],\n",
       "       [7, 0]])"
      ]
     },
     "execution_count": 20,
     "metadata": {},
     "output_type": "execute_result"
    }
   ],
   "source": [
    "z = np.vstack([range(9),y]).reshape(9,2)\n",
    "z"
   ]
  },
  {
   "cell_type": "code",
   "execution_count": 22,
   "metadata": {},
   "outputs": [
    {
     "data": {
      "text/plain": [
       "(9, 2, 8)"
      ]
     },
     "execution_count": 22,
     "metadata": {},
     "output_type": "execute_result"
    }
   ],
   "source": [
    "a[z].shape"
   ]
  },
  {
   "cell_type": "code",
   "execution_count": 26,
   "metadata": {},
   "outputs": [
    {
     "ename": "ValueError",
     "evalue": "shape mismatch: value array of shape (9,6) could not be broadcast to indexing result of shape (9,6)",
     "output_type": "error",
     "traceback": [
      "\u001b[0;31m---------------------------------------------------------------------------\u001b[0m",
      "\u001b[0;31mValueError\u001b[0m                                Traceback (most recent call last)",
      "\u001b[0;32m<ipython-input-26-772f42187e0b>\u001b[0m in \u001b[0;36m<module>\u001b[0;34m()\u001b[0m\n\u001b[1;32m      1\u001b[0m \u001b[0mw\u001b[0m \u001b[0;34m=\u001b[0m \u001b[0mnp\u001b[0m\u001b[0;34m.\u001b[0m\u001b[0mzeros\u001b[0m\u001b[0;34m(\u001b[0m\u001b[0;34m(\u001b[0m\u001b[0;36m6\u001b[0m\u001b[0;34m,\u001b[0m\u001b[0;36m8\u001b[0m\u001b[0;34m)\u001b[0m\u001b[0;34m)\u001b[0m\u001b[0;34m\u001b[0m\u001b[0m\n\u001b[1;32m      2\u001b[0m \u001b[0mx\u001b[0m \u001b[0;34m=\u001b[0m \u001b[0mnp\u001b[0m\u001b[0;34m.\u001b[0m\u001b[0mrandom\u001b[0m\u001b[0;34m.\u001b[0m\u001b[0mrand\u001b[0m\u001b[0;34m(\u001b[0m\u001b[0;36m9\u001b[0m\u001b[0;34m,\u001b[0m\u001b[0;36m6\u001b[0m\u001b[0;34m)\u001b[0m\u001b[0;34m\u001b[0m\u001b[0m\n\u001b[0;32m----> 3\u001b[0;31m \u001b[0mw\u001b[0m\u001b[0;34m[\u001b[0m\u001b[0;34m:\u001b[0m\u001b[0;34m,\u001b[0m\u001b[0my\u001b[0m\u001b[0;34m]\u001b[0m\u001b[0;34m=\u001b[0m\u001b[0mx\u001b[0m\u001b[0;34m[\u001b[0m\u001b[0my\u001b[0m\u001b[0;34m,\u001b[0m\u001b[0;34m:\u001b[0m\u001b[0;34m]\u001b[0m\u001b[0;34m\u001b[0m\u001b[0m\n\u001b[0m\u001b[1;32m      4\u001b[0m \u001b[0mw\u001b[0m\u001b[0;34m\u001b[0m\u001b[0m\n",
      "\u001b[0;31mValueError\u001b[0m: shape mismatch: value array of shape (9,6) could not be broadcast to indexing result of shape (9,6)"
     ]
    }
   ],
   "source": [
    "w = np.zeros((6,8))\n",
    "x = np.random.rand(9,6)\n",
    "w[:,y]=x[y,:]\n",
    "w"
   ]
  },
  {
   "cell_type": "code",
   "execution_count": 39,
   "metadata": {},
   "outputs": [
    {
     "ename": "TypeError",
     "evalue": "'list' object cannot be interpreted as an integer",
     "output_type": "error",
     "traceback": [
      "\u001b[0;31m---------------------------------------------------------------------------\u001b[0m",
      "\u001b[0;31mTypeError\u001b[0m                                 Traceback (most recent call last)",
      "\u001b[0;32m<ipython-input-39-af330179bb31>\u001b[0m in \u001b[0;36m<module>\u001b[0;34m()\u001b[0m\n\u001b[0;32m----> 1\u001b[0;31m \u001b[0mnp\u001b[0m\u001b[0;34m.\u001b[0m\u001b[0mmax\u001b[0m\u001b[0;34m(\u001b[0m\u001b[0;34m[\u001b[0m\u001b[0;36m5\u001b[0m\u001b[0;34m,\u001b[0m\u001b[0;36m0\u001b[0m\u001b[0;34m]\u001b[0m\u001b[0;34m,\u001b[0m\u001b[0;34m[\u001b[0m\u001b[0;36m4\u001b[0m\u001b[0;34m,\u001b[0m\u001b[0;36m3\u001b[0m\u001b[0;34m]\u001b[0m\u001b[0;34m)\u001b[0m\u001b[0;34m\u001b[0m\u001b[0m\n\u001b[0m",
      "\u001b[0;32m/anaconda2/envs/cs231n/lib/python3.6/site-packages/numpy/core/fromnumeric.py\u001b[0m in \u001b[0;36mamax\u001b[0;34m(a, axis, out, keepdims)\u001b[0m\n\u001b[1;32m   2318\u001b[0m \u001b[0;34m\u001b[0m\u001b[0m\n\u001b[1;32m   2319\u001b[0m     return _methods._amax(a, axis=axis,\n\u001b[0;32m-> 2320\u001b[0;31m                           out=out, **kwargs)\n\u001b[0m\u001b[1;32m   2321\u001b[0m \u001b[0;34m\u001b[0m\u001b[0m\n\u001b[1;32m   2322\u001b[0m \u001b[0;34m\u001b[0m\u001b[0m\n",
      "\u001b[0;32m/anaconda2/envs/cs231n/lib/python3.6/site-packages/numpy/core/_methods.py\u001b[0m in \u001b[0;36m_amax\u001b[0;34m(a, axis, out, keepdims)\u001b[0m\n\u001b[1;32m     24\u001b[0m \u001b[0;31m# small reductions\u001b[0m\u001b[0;34m\u001b[0m\u001b[0;34m\u001b[0m\u001b[0m\n\u001b[1;32m     25\u001b[0m \u001b[0;32mdef\u001b[0m \u001b[0m_amax\u001b[0m\u001b[0;34m(\u001b[0m\u001b[0ma\u001b[0m\u001b[0;34m,\u001b[0m \u001b[0maxis\u001b[0m\u001b[0;34m=\u001b[0m\u001b[0;32mNone\u001b[0m\u001b[0;34m,\u001b[0m \u001b[0mout\u001b[0m\u001b[0;34m=\u001b[0m\u001b[0;32mNone\u001b[0m\u001b[0;34m,\u001b[0m \u001b[0mkeepdims\u001b[0m\u001b[0;34m=\u001b[0m\u001b[0;32mFalse\u001b[0m\u001b[0;34m)\u001b[0m\u001b[0;34m:\u001b[0m\u001b[0;34m\u001b[0m\u001b[0m\n\u001b[0;32m---> 26\u001b[0;31m     \u001b[0;32mreturn\u001b[0m \u001b[0mumr_maximum\u001b[0m\u001b[0;34m(\u001b[0m\u001b[0ma\u001b[0m\u001b[0;34m,\u001b[0m \u001b[0maxis\u001b[0m\u001b[0;34m,\u001b[0m \u001b[0;32mNone\u001b[0m\u001b[0;34m,\u001b[0m \u001b[0mout\u001b[0m\u001b[0;34m,\u001b[0m \u001b[0mkeepdims\u001b[0m\u001b[0;34m)\u001b[0m\u001b[0;34m\u001b[0m\u001b[0m\n\u001b[0m\u001b[1;32m     27\u001b[0m \u001b[0;34m\u001b[0m\u001b[0m\n\u001b[1;32m     28\u001b[0m \u001b[0;32mdef\u001b[0m \u001b[0m_amin\u001b[0m\u001b[0;34m(\u001b[0m\u001b[0ma\u001b[0m\u001b[0;34m,\u001b[0m \u001b[0maxis\u001b[0m\u001b[0;34m=\u001b[0m\u001b[0;32mNone\u001b[0m\u001b[0;34m,\u001b[0m \u001b[0mout\u001b[0m\u001b[0;34m=\u001b[0m\u001b[0;32mNone\u001b[0m\u001b[0;34m,\u001b[0m \u001b[0mkeepdims\u001b[0m\u001b[0;34m=\u001b[0m\u001b[0;32mFalse\u001b[0m\u001b[0;34m)\u001b[0m\u001b[0;34m:\u001b[0m\u001b[0;34m\u001b[0m\u001b[0m\n",
      "\u001b[0;31mTypeError\u001b[0m: 'list' object cannot be interpreted as an integer"
     ]
    }
   ],
   "source": [
    "np.max([5,0],[4,3])"
   ]
  },
  {
   "cell_type": "code",
   "execution_count": 31,
   "metadata": {},
   "outputs": [
    {
     "data": {
      "text/plain": [
       "array([[0.32581852, 0.33236459, 0.87777302, 0.17006512, 0.36498501,\n",
       "        0.38142056, 0.25574457, 0.01856814],\n",
       "       [0.95676079, 0.78096187, 0.1045631 , 0.11143345, 0.06427278,\n",
       "        0.76144642, 0.2269553 , 0.79879589],\n",
       "       [0.504224  , 0.52608258, 0.23481732, 0.25278541, 0.39915874,\n",
       "        0.45083524, 0.02376543, 0.53968173],\n",
       "       [0.99565754, 0.07425629, 0.76384628, 0.55790013, 0.6258166 ,\n",
       "        0.90497396, 0.98692905, 0.42854909],\n",
       "       [0.8938137 , 0.48721419, 0.80608292, 0.83257785, 0.56254773,\n",
       "        0.76168252, 0.58780896, 0.98789628],\n",
       "       [0.5286585 , 0.09005686, 0.36842714, 0.18317892, 0.40292285,\n",
       "        0.77226266, 0.72782972, 0.03487539],\n",
       "       [0.81224783, 0.49600539, 0.65107118, 0.74581115, 0.90233743,\n",
       "        0.18794462, 0.26182351, 0.15367157],\n",
       "       [0.02424014, 0.59239878, 0.44288338, 0.14803217, 0.62036244,\n",
       "        0.99337334, 0.09530035, 0.91759669],\n",
       "       [0.94937236, 0.99606763, 0.28416782, 0.07843494, 0.83899019,\n",
       "        0.22379669, 0.87188049, 0.16253133]])"
      ]
     },
     "execution_count": 31,
     "metadata": {},
     "output_type": "execute_result"
    }
   ],
   "source": [
    "a\n"
   ]
  },
  {
   "cell_type": "code",
   "execution_count": 71,
   "metadata": {},
   "outputs": [
    {
     "data": {
      "text/plain": [
       "array([0.87777302, 0.95676079, 0.53968173, 0.99565754, 0.98789628,\n",
       "       0.77226266, 0.90233743, 0.99337334, 0.99606763])"
      ]
     },
     "execution_count": 71,
     "metadata": {},
     "output_type": "execute_result"
    }
   ],
   "source": [
    "np.max(a,axis=1)"
   ]
  },
  {
   "cell_type": "code",
   "execution_count": 34,
   "metadata": {},
   "outputs": [
    {
     "data": {
      "text/plain": [
       "array([0.65152147])"
      ]
     },
     "execution_count": 34,
     "metadata": {},
     "output_type": "execute_result"
    }
   ],
   "source": [
    "n= np.random.rand(1,5)\n",
    "n[:,3]"
   ]
  },
  {
   "cell_type": "code",
   "execution_count": 43,
   "metadata": {},
   "outputs": [],
   "source": [
    "ww = np.sum(a,axis=1,keepdims=True)"
   ]
  },
  {
   "cell_type": "code",
   "execution_count": 44,
   "metadata": {},
   "outputs": [],
   "source": [
    "yy=np.sum(a,axis=1)"
   ]
  },
  {
   "cell_type": "code",
   "execution_count": 45,
   "metadata": {},
   "outputs": [
    {
     "data": {
      "text/plain": [
       "((9, 1), (9,))"
      ]
     },
     "execution_count": 45,
     "metadata": {},
     "output_type": "execute_result"
    }
   ],
   "source": [
    "ww.shape,yy.shape"
   ]
  },
  {
   "cell_type": "code",
   "execution_count": 46,
   "metadata": {},
   "outputs": [
    {
     "data": {
      "text/plain": [
       "range(0, 5)"
      ]
     },
     "execution_count": 46,
     "metadata": {},
     "output_type": "execute_result"
    }
   ],
   "source": [
    "range(5)"
   ]
  },
  {
   "cell_type": "code",
   "execution_count": 47,
   "metadata": {},
   "outputs": [
    {
     "data": {
      "text/plain": [
       "array([0, 1, 2, 3, 4])"
      ]
     },
     "execution_count": 47,
     "metadata": {},
     "output_type": "execute_result"
    }
   ],
   "source": [
    "np.arange(5)"
   ]
  },
  {
   "cell_type": "code",
   "execution_count": 70,
   "metadata": {},
   "outputs": [
    {
     "data": {
      "text/plain": [
       "array([[0.32581852, 0.33236459, 0.87777302, 0.17006512, 0.36498501,\n",
       "        0.38142056, 0.25574457, 0.01856814],\n",
       "       [0.95676079, 0.78096187, 0.1045631 , 0.11143345, 0.06427278,\n",
       "        0.76144642, 0.2269553 , 0.79879589],\n",
       "       [0.504224  , 0.52608258, 0.23481732, 0.25278541, 0.39915874,\n",
       "        0.45083524, 0.02376543, 0.53968173],\n",
       "       [0.99565754, 0.07425629, 0.76384628, 0.55790013, 0.6258166 ,\n",
       "        0.90497396, 0.98692905, 0.42854909],\n",
       "       [0.8938137 , 0.48721419, 0.80608292, 0.83257785, 0.56254773,\n",
       "        0.76168252, 0.58780896, 0.98789628],\n",
       "       [0.5286585 , 0.09005686, 0.36842714, 0.18317892, 0.40292285,\n",
       "        0.77226266, 0.72782972, 0.03487539],\n",
       "       [0.81224783, 0.49600539, 0.65107118, 0.74581115, 0.90233743,\n",
       "        0.18794462, 0.26182351, 0.15367157],\n",
       "       [0.02424014, 0.59239878, 0.44288338, 0.14803217, 0.62036244,\n",
       "        0.99337334, 0.09530035, 0.91759669],\n",
       "       [0.94937236, 0.99606763, 0.28416782, 0.07843494, 0.83899019,\n",
       "        0.22379669, 0.87188049, 0.16253133]])"
      ]
     },
     "execution_count": 70,
     "metadata": {},
     "output_type": "execute_result"
    }
   ],
   "source": [
    "a"
   ]
  },
  {
   "cell_type": "code",
   "execution_count": 74,
   "metadata": {},
   "outputs": [
    {
     "data": {
      "text/plain": [
       "array([0.87777302, 0.95676079, 0.53968173, 0.99565754, 0.98789628,\n",
       "       0.77226266, 0.90233743, 0.99337334, 0.99606763])"
      ]
     },
     "execution_count": 74,
     "metadata": {},
     "output_type": "execute_result"
    }
   ],
   "source": [
    "np.max(a,axis=1)"
   ]
  },
  {
   "cell_type": "code",
   "execution_count": 64,
   "metadata": {},
   "outputs": [
    {
     "data": {
      "text/plain": [
       "(9, 8)"
      ]
     },
     "execution_count": 64,
     "metadata": {},
     "output_type": "execute_result"
    }
   ],
   "source": [
    "a.shape"
   ]
  },
  {
   "cell_type": "code",
   "execution_count": 84,
   "metadata": {},
   "outputs": [],
   "source": [
    "i = np.random.rand(1,3)\n",
    "r=i[0:1,2:100]"
   ]
  },
  {
   "cell_type": "code",
   "execution_count": 85,
   "metadata": {},
   "outputs": [
    {
     "data": {
      "text/plain": [
       "array([[0.15693068]])"
      ]
     },
     "execution_count": 85,
     "metadata": {},
     "output_type": "execute_result"
    }
   ],
   "source": [
    "r"
   ]
  },
  {
   "cell_type": "code",
   "execution_count": 77,
   "metadata": {},
   "outputs": [
    {
     "data": {
      "text/plain": [
       "3"
      ]
     },
     "execution_count": 77,
     "metadata": {},
     "output_type": "execute_result"
    }
   ],
   "source": [
    "np.int(3.6)"
   ]
  },
  {
   "cell_type": "code",
   "execution_count": 96,
   "metadata": {},
   "outputs": [
    {
     "data": {
      "text/plain": [
       "3"
      ]
     },
     "execution_count": 96,
     "metadata": {},
     "output_type": "execute_result"
    }
   ],
   "source": [
    "np.random.randint(1,5)"
   ]
  },
  {
   "cell_type": "code",
   "execution_count": 97,
   "metadata": {},
   "outputs": [
    {
     "data": {
      "text/plain": [
       "array([[0.32581852, 0.33236459, 0.87777302, 0.17006512, 0.36498501,\n",
       "        0.38142056, 0.25574457, 0.01856814],\n",
       "       [0.95676079, 0.78096187, 0.1045631 , 0.11143345, 0.06427278,\n",
       "        0.76144642, 0.2269553 , 0.79879589],\n",
       "       [0.504224  , 0.52608258, 0.23481732, 0.25278541, 0.39915874,\n",
       "        0.45083524, 0.02376543, 0.53968173],\n",
       "       [0.99565754, 0.07425629, 0.76384628, 0.55790013, 0.6258166 ,\n",
       "        0.90497396, 0.98692905, 0.42854909],\n",
       "       [0.8938137 , 0.48721419, 0.80608292, 0.83257785, 0.56254773,\n",
       "        0.76168252, 0.58780896, 0.98789628],\n",
       "       [0.5286585 , 0.09005686, 0.36842714, 0.18317892, 0.40292285,\n",
       "        0.77226266, 0.72782972, 0.03487539],\n",
       "       [0.81224783, 0.49600539, 0.65107118, 0.74581115, 0.90233743,\n",
       "        0.18794462, 0.26182351, 0.15367157],\n",
       "       [0.02424014, 0.59239878, 0.44288338, 0.14803217, 0.62036244,\n",
       "        0.99337334, 0.09530035, 0.91759669],\n",
       "       [0.94937236, 0.99606763, 0.28416782, 0.07843494, 0.83899019,\n",
       "        0.22379669, 0.87188049, 0.16253133]])"
      ]
     },
     "execution_count": 97,
     "metadata": {},
     "output_type": "execute_result"
    }
   ],
   "source": [
    "a"
   ]
  },
  {
   "cell_type": "code",
   "execution_count": 99,
   "metadata": {},
   "outputs": [
    {
     "data": {
      "text/plain": [
       "array([2, 0, 7, 0, 7, 5, 4, 5, 1])"
      ]
     },
     "execution_count": 99,
     "metadata": {},
     "output_type": "execute_result"
    }
   ],
   "source": [
    "np.argmax(a,axis=1)"
   ]
  },
  {
   "cell_type": "code",
   "execution_count": null,
   "metadata": {},
   "outputs": [],
   "source": []
  }
 ],
 "metadata": {
  "kernelspec": {
   "display_name": "Python 3",
   "language": "python",
   "name": "python3"
  },
  "language_info": {
   "codemirror_mode": {
    "name": "ipython",
    "version": 3
   },
   "file_extension": ".py",
   "mimetype": "text/x-python",
   "name": "python",
   "nbconvert_exporter": "python",
   "pygments_lexer": "ipython3",
   "version": "3.6.5"
  }
 },
 "nbformat": 4,
 "nbformat_minor": 2
}
